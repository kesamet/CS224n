{
 "cells": [
  {
   "cell_type": "markdown",
   "metadata": {},
   "source": [
    "# Assignment 2"
   ]
  },
  {
   "cell_type": "code",
   "execution_count": 1,
   "metadata": {
    "collapsed": true
   },
   "outputs": [],
   "source": [
    "import numpy as np\n",
    "\n",
    "%load_ext autoreload\n",
    "%autoreload 2"
   ]
  },
  {
   "cell_type": "markdown",
   "metadata": {},
   "source": [
    "## 1 Tensorflow Softmax"
   ]
  },
  {
   "cell_type": "code",
   "execution_count": 12,
   "metadata": {},
   "outputs": [
    {
     "name": "stdout",
     "output_type": "stream",
     "text": [
      "2018-01-28 14:15:25.210198: I tensorflow/core/platform/cpu_feature_guard.cc:137] Your CPU supports instructions that this TensorFlow binary was not compiled to use: SSE4.1 SSE4.2 AVX AVX2 FMA\r\n",
      "Softmax test 1 passed!\r\n",
      "Softmax test 2 passed!\r\n",
      "Basic (non-exhaustive) softmax tests pass\r\n",
      "\r\n",
      "Cross-entropy test 1 passed!\r\n",
      "Basic (non-exhaustive) cross-entropy tests pass\r\n"
     ]
    }
   ],
   "source": [
    "!python q1_softmax.py"
   ]
  },
  {
   "cell_type": "code",
   "execution_count": 43,
   "metadata": {
    "scrolled": false
   },
   "outputs": [
    {
     "name": "stdout",
     "output_type": "stream",
     "text": [
      "2018-01-30 15:08:48.038932: I tensorflow/core/platform/cpu_feature_guard.cc:137] Your CPU supports instructions that this TensorFlow binary was not compiled to use: SSE4.1 SSE4.2 AVX AVX2 FMA\n",
      "Epoch 0: loss = 59.18 (0.037 sec)\n",
      "Epoch 1: loss = 20.32 (0.008 sec)\n",
      "Epoch 2: loss = 10.92 (0.008 sec)\n",
      "Epoch 3: loss = 7.30 (0.013 sec)\n",
      "Epoch 4: loss = 5.44 (0.008 sec)\n",
      "Epoch 5: loss = 4.32 (0.008 sec)\n",
      "Epoch 6: loss = 3.58 (0.009 sec)\n",
      "Epoch 7: loss = 3.05 (0.008 sec)\n",
      "Epoch 8: loss = 2.65 (0.008 sec)\n",
      "Epoch 9: loss = 2.35 (0.010 sec)\n",
      "Epoch 10: loss = 2.11 (0.007 sec)\n",
      "Epoch 11: loss = 1.91 (0.010 sec)\n",
      "Epoch 12: loss = 1.75 (0.008 sec)\n",
      "Epoch 13: loss = 1.61 (0.007 sec)\n",
      "Epoch 14: loss = 1.49 (0.008 sec)\n",
      "Epoch 15: loss = 1.39 (0.010 sec)\n",
      "Epoch 16: loss = 1.30 (0.007 sec)\n",
      "Epoch 17: loss = 1.22 (0.008 sec)\n",
      "Epoch 18: loss = 1.15 (0.008 sec)\n",
      "Epoch 19: loss = 1.09 (0.007 sec)\n",
      "Epoch 20: loss = 1.03 (0.007 sec)\n",
      "Epoch 21: loss = 0.98 (0.011 sec)\n",
      "Epoch 22: loss = 0.94 (0.007 sec)\n",
      "Epoch 23: loss = 0.89 (0.007 sec)\n",
      "Epoch 24: loss = 0.86 (0.009 sec)\n",
      "Epoch 25: loss = 0.82 (0.007 sec)\n",
      "Epoch 26: loss = 0.79 (0.007 sec)\n",
      "Epoch 27: loss = 0.76 (0.009 sec)\n",
      "Epoch 28: loss = 0.73 (0.009 sec)\n",
      "Epoch 29: loss = 0.71 (0.007 sec)\n",
      "Epoch 30: loss = 0.68 (0.010 sec)\n",
      "Epoch 31: loss = 0.66 (0.007 sec)\n",
      "Epoch 32: loss = 0.64 (0.007 sec)\n",
      "Epoch 33: loss = 0.62 (0.008 sec)\n",
      "Epoch 34: loss = 0.60 (0.010 sec)\n",
      "Epoch 35: loss = 0.58 (0.007 sec)\n",
      "Epoch 36: loss = 0.57 (0.009 sec)\n",
      "Epoch 37: loss = 0.55 (0.007 sec)\n",
      "Epoch 38: loss = 0.54 (0.007 sec)\n",
      "Epoch 39: loss = 0.52 (0.009 sec)\n",
      "Epoch 40: loss = 0.51 (0.010 sec)\n",
      "Epoch 41: loss = 0.50 (0.007 sec)\n",
      "Epoch 42: loss = 0.48 (0.010 sec)\n",
      "Epoch 43: loss = 0.47 (0.007 sec)\n",
      "Epoch 44: loss = 0.46 (0.007 sec)\n",
      "Epoch 45: loss = 0.45 (0.009 sec)\n",
      "Epoch 46: loss = 0.44 (0.011 sec)\n",
      "Epoch 47: loss = 0.43 (0.009 sec)\n",
      "Epoch 48: loss = 0.42 (0.007 sec)\n",
      "Epoch 49: loss = 0.41 (0.007 sec)\n",
      "Basic (non-exhaustive) classifier tests pass\n"
     ]
    }
   ],
   "source": [
    "!python q1_classifier.py"
   ]
  },
  {
   "cell_type": "markdown",
   "metadata": {},
   "source": [
    "## 2 Neural Transition-Based Dependency Parsing"
   ]
  },
  {
   "cell_type": "markdown",
   "metadata": {},
   "source": [
    "|stack|buffer|new dependency|transition|\n",
    "|---|---|---|---|\n",
    "|[ROOT]|[I, parsed, this, sentence, correctly]||Initial Configuration|\n",
    "|[ROOT, I]|[parsed, this, sentence, correctly]||SHIFT|\n",
    "|[ROOT, I, parsed]|[this, sentence, correctly]||SHIFT|\n",
    "|[ROOT, parsed]|[this, sentence, correctly]|parsed $\\rightarrow$ I|LEFT-ARC|\n",
    "|[ROOT, parsed, this]|[sentence, correctly]||SHIFT|\n",
    "|[ROOT, parsed, this, sentence]|[correctly]||SHIFT|\n",
    "|[ROOT, parsed, sentence]|[correctly]|sentence $\\rightarrow$ this|LEFT-ARC|\n",
    "|[ROOT, parsed]|[correctly]|parsed $\\rightarrow$ sentence|RIGHT-ARC|\n",
    "|[ROOT, parsed, correctly]|[]||SHIFT|\n",
    "|[ROOT, parsed]|[]|parsed $\\rightarrow$ correctly|RIGHT-ARC|\n",
    "|[ROOT]|[]|ROOT $\\rightarrow$ parsed|RIGHT-ARC|\n",
    "\n",
    "Parsing a sentence with $n$ words requires $2n$ steps"
   ]
  },
  {
   "cell_type": "code",
   "execution_count": 15,
   "metadata": {},
   "outputs": [
    {
     "name": "stdout",
     "output_type": "stream",
     "text": [
      "SHIFT test passed!\r\n",
      "LEFT-ARC test passed!\r\n",
      "RIGHT-ARC test passed!\r\n",
      "parse test passed!\r\n",
      "minibatch_parse test passed!\r\n"
     ]
    }
   ],
   "source": [
    "!python q2_parser_transitions.py"
   ]
  },
  {
   "cell_type": "markdown",
   "metadata": {},
   "source": [
    "In dropout, $\\gamma = \\frac{1}{1-p_\\text{drop}}$"
   ]
  },
  {
   "cell_type": "code",
   "execution_count": 35,
   "metadata": {
    "scrolled": true
   },
   "outputs": [
    {
     "name": "stdout",
     "output_type": "stream",
     "text": [
      "Running basic tests...\r\n",
      "Basic (non-exhaustive) Xavier initialization tests pass\r\n"
     ]
    }
   ],
   "source": [
    "!python q2_initialization.py"
   ]
  },
  {
   "cell_type": "code",
   "execution_count": 47,
   "metadata": {},
   "outputs": [
    {
     "name": "stdout",
     "output_type": "stream",
     "text": [
      "================================================================================\n",
      "INITIALIZING\n",
      "================================================================================\n",
      "Loading data... took 2.08 seconds\n",
      "Building parser... took 0.03 seconds\n",
      "Loading pretrained embeddings... took 1.87 seconds\n",
      "Vectorizing data... took 0.06 seconds\n",
      "Preprocessing training data... took 1.21 seconds\n",
      "Building model... took 0.12 seconds\n",
      "\n",
      "2018-01-30 15:15:00.505525: I tensorflow/core/platform/cpu_feature_guard.cc:137] Your CPU supports instructions that this TensorFlow binary was not compiled to use: SSE4.1 SSE4.2 AVX AVX2 FMA\n",
      "================================================================================\n",
      "TRAINING\n",
      "================================================================================\n",
      "Epoch 1 out of 10\n",
      "48/48 [==============================] - 2s - train loss: 0.5559     \n",
      "Evaluating on dev set - dev UAS: 53.50\n",
      "\n",
      "Epoch 2 out of 10\n",
      "48/48 [==============================] - 2s - train loss: 0.3308     \n",
      "Evaluating on dev set - dev UAS: 57.63\n",
      "\n",
      "Epoch 3 out of 10\n",
      "48/48 [==============================] - 2s - train loss: 0.2850     \n",
      "Evaluating on dev set - dev UAS: 59.99\n",
      "\n",
      "Epoch 4 out of 10\n",
      "48/48 [==============================] - 2s - train loss: 0.2584     \n",
      "Evaluating on dev set - dev UAS: 62.68\n",
      "\n",
      "Epoch 5 out of 10\n",
      "48/48 [==============================] - 2s - train loss: 0.2382     \n",
      "Evaluating on dev set - dev UAS: 63.70\n",
      "\n",
      "Epoch 6 out of 10\n",
      "48/48 [==============================] - 2s - train loss: 0.2237     \n",
      "Evaluating on dev set - dev UAS: 63.98\n",
      "\n",
      "Epoch 7 out of 10\n",
      "48/48 [==============================] - 3s - train loss: 0.2085     \n",
      "Evaluating on dev set - dev UAS: 67.17\n",
      "\n",
      "Epoch 8 out of 10\n",
      "48/48 [==============================] - 3s - train loss: 0.1946     \n",
      "Evaluating on dev set - dev UAS: 67.82\n",
      "\n",
      "Epoch 9 out of 10\n",
      "48/48 [==============================] - 2s - train loss: 0.1873     \n",
      "Evaluating on dev set - dev UAS: 69.77\n",
      "\n",
      "Epoch 10 out of 10\n",
      "48/48 [==============================] - 3s - train loss: 0.1760     \n",
      "Evaluating on dev set - dev UAS: 70.38\n",
      "\n"
     ]
    }
   ],
   "source": [
    "# debug = True\n",
    "!python q2_parser_model.py"
   ]
  },
  {
   "cell_type": "code",
   "execution_count": 51,
   "metadata": {
    "scrolled": false
   },
   "outputs": [
    {
     "name": "stdout",
     "output_type": "stream",
     "text": [
      "================================================================================\n",
      "INITIALIZING\n",
      "================================================================================\n",
      "Loading data... took 2.16 seconds\n",
      "Building parser... took 1.20 seconds\n",
      "Loading pretrained embeddings... took 2.32 seconds\n",
      "Vectorizing data... took 1.51 seconds\n",
      "Preprocessing training data... took 41.92 seconds\n",
      "Building model... took 0.16 seconds\n",
      "\n",
      "2018-01-30 15:19:13.581502: I tensorflow/core/platform/cpu_feature_guard.cc:137] Your CPU supports instructions that this TensorFlow binary was not compiled to use: SSE4.1 SSE4.2 AVX AVX2 FMA\n",
      "================================================================================\n",
      "TRAINING\n",
      "================================================================================\n",
      "Epoch 1 out of 10\n",
      "1848/1848 [==============================] - 117s - train loss: 0.1909   \n",
      "Evaluating on dev set - dev UAS: 81.75\n",
      "New best dev UAS! Saving model in ./data/weights/parser.weights\n",
      "\n",
      "Epoch 2 out of 10\n",
      "1848/1848 [==============================] - 115s - train loss: 0.1364   \n",
      "Evaluating on dev set - dev UAS: 82.82\n",
      "New best dev UAS! Saving model in ./data/weights/parser.weights\n",
      "\n",
      "Epoch 3 out of 10\n",
      "1848/1848 [==============================] - 114s - train loss: 0.1260   \n",
      "Evaluating on dev set - dev UAS: 84.40\n",
      "New best dev UAS! Saving model in ./data/weights/parser.weights\n",
      "\n",
      "Epoch 4 out of 10\n",
      "1848/1848 [==============================] - 119s - train loss: 0.1205   \n",
      "Evaluating on dev set - dev UAS: 85.41\n",
      "New best dev UAS! Saving model in ./data/weights/parser.weights\n",
      "\n",
      "Epoch 5 out of 10\n",
      "1848/1848 [==============================] - 123s - train loss: 0.1164   \n",
      "Evaluating on dev set - dev UAS: 85.52\n",
      "New best dev UAS! Saving model in ./data/weights/parser.weights\n",
      "\n",
      "Epoch 6 out of 10\n",
      "1848/1848 [==============================] - 120s - train loss: 0.1129   \n",
      "Evaluating on dev set - dev UAS: 85.80\n",
      "New best dev UAS! Saving model in ./data/weights/parser.weights\n",
      "\n",
      "Epoch 7 out of 10\n",
      "1848/1848 [==============================] - 119s - train loss: 0.1103   \n",
      "Evaluating on dev set - dev UAS: 86.07\n",
      "New best dev UAS! Saving model in ./data/weights/parser.weights\n",
      "\n",
      "Epoch 8 out of 10\n",
      "1848/1848 [==============================] - 121s - train loss: 0.1082   \n",
      "Evaluating on dev set - dev UAS: 86.15\n",
      "New best dev UAS! Saving model in ./data/weights/parser.weights\n",
      "\n",
      "Epoch 9 out of 10\n",
      "1848/1848 [==============================] - 121s - train loss: 0.1065   \n",
      "Evaluating on dev set - dev UAS: 86.23\n",
      "New best dev UAS! Saving model in ./data/weights/parser.weights\n",
      "\n",
      "Epoch 10 out of 10\n",
      "1848/1848 [==============================] - 120s - train loss: 0.1049   \n",
      "Evaluating on dev set - dev UAS: 86.18\n",
      "\n",
      "================================================================================\n",
      "TESTING\n",
      "================================================================================\n",
      "Restoring the best model weights found on the dev set\n",
      "Final evaluation on test set - test UAS: 86.34\n",
      "Writing predictions\n",
      "Done!\n"
     ]
    }
   ],
   "source": [
    "# debug = False\n",
    "!python q2_parser_model.py"
   ]
  },
  {
   "cell_type": "markdown",
   "metadata": {
    "collapsed": true
   },
   "source": [
    "## 3 Recurrent Neural Networks: Language Modeling"
   ]
  },
  {
   "cell_type": "markdown",
   "metadata": {
    "collapsed": true
   },
   "source": [
    "$$ J^{(t)} = \\log PP^{(t)} $$\n",
    "so\n",
    "$$ \\frac{1}{T} \\sum_{t=1}^T J^{(t)} = \\log \\left( \\prod_{t=1}^T PP^{(t)} \\right)^{1/T} $$\n",
    "\n",
    "Let $F(x) = \\text{softmax}(x)$ and $\\sigma(x) = \\text{sigmoid}(x)$. Their derivatives are\n",
    "$$ \\frac{\\partial F_i}{\\partial x_j} = F_i \\delta_{ij} - F_iF_j $$\n",
    "$$ \\frac{\\partial \\sigma_i}{\\partial x_j} = \\sigma(x_i)(1-\\sigma(x_i)) \\delta_{ij} $$\n",
    "So\n",
    "$$ \\delta_1^{(t)} = \\frac{\\partial J}{\\partial \\theta^{(t)}} = \\hat{y}^{(t)} - y^{(t)} $$\n",
    "and\n",
    "$$ \\delta_2^{(t)} = \\frac{\\partial J}{\\partial z^{(t)}} = U^T \\delta_1^{(t)} \\circ h^{(t)} \\circ (1-h^{(t)}) $$\n",
    "Thus,\n",
    "$$ \\frac{\\partial J^{(t)}}{\\partial U} = \\delta_1^{(t)} (h^{(t)})^T $$\n",
    "$$ \\left. \\frac{\\partial J^{(t)}}{\\partial W_h} \\right|_{(t)} = \\delta_2^{(t)} (h^{(t-1)})^T $$\n",
    "$$ \\left. \\frac{\\partial J^{(t)}}{\\partial W_e} \\right|_{(t)} = \\delta_2^{(t)} (e^{(t)})^T $$\n",
    "$$ \\frac{\\partial J^{(t)}}{\\partial e^{(t)}} = W_e^T \\delta_2^{(t)} $$\n",
    "$$ \\frac{\\partial J^{(t)}}{\\partial h^{(t-1)}} = W_h^T \\delta_2^{(t)} $$\n",
    "\n",
    "Let $\\gamma^{(t-1)} = \\frac{\\partial J^{(t)}}{\\partial h^{(t-1)}}$. Then\n",
    "$$ \\frac{\\partial J^{(t)}}{\\partial e^{(t-1)}} = W_e^T \\gamma^{(t-1)} \\circ h^{(t-1)} \\circ (1-h^{(t-1)}) $$\n",
    "$$ \\left. \\frac{\\partial J^{(t)}}{\\partial W_e} \\right|_{(t-1)} = \\gamma^{(t-1)} \\circ h^{(t-1)} \\circ (1-h^{(t-1)}) (e^{(t-1)})^T $$\n",
    "$$ \\left. \\frac{\\partial J^{(t)}}{\\partial W_h} \\right|_{(t-1)} = \\gamma^{(t-1)} \\circ h^{(t-1)} \\circ (1-h^{(t-1)}) (h^{(t-2)})^T $$"
   ]
  },
  {
   "cell_type": "markdown",
   "metadata": {},
   "source": [
    "Number of operations to perform backpropagation in 1 timestep = $O(D_h|V| + D_h^2 + dD_h)$\n",
    "\n",
    "$O(D_h|V|)$ is the largest term since $|V|>>D_h$."
   ]
  },
  {
   "cell_type": "code",
   "execution_count": null,
   "metadata": {
    "collapsed": true
   },
   "outputs": [],
   "source": []
  }
 ],
 "metadata": {
  "kernelspec": {
   "display_name": "Python 3",
   "language": "python",
   "name": "python3"
  },
  "language_info": {
   "codemirror_mode": {
    "name": "ipython",
    "version": 3
   },
   "file_extension": ".py",
   "mimetype": "text/x-python",
   "name": "python",
   "nbconvert_exporter": "python",
   "pygments_lexer": "ipython3",
   "version": "3.6.1"
  }
 },
 "nbformat": 4,
 "nbformat_minor": 2
}
